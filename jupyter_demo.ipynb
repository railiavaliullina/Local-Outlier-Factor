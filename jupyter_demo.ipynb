{
 "cells": [
  {
   "cell_type": "code",
   "execution_count": 1,
   "metadata": {
    "pycharm": {
     "is_executing": true
    }
   },
   "outputs": [],
   "source": [
    "import numpy as np\n",
    "import plotly.graph_objects as go\n",
    "from sklearn.manifold import TSNE\n",
    "from sklearn import metrics as sklearn_metrics"
   ]
  },
  {
   "cell_type": "code",
   "execution_count": 2,
   "metadata": {},
   "outputs": [],
   "source": [
    "import sys\n",
    "sys.path.append('./')"
   ]
  },
  {
   "cell_type": "code",
   "execution_count": 3,
   "metadata": {},
   "outputs": [],
   "source": [
    "from datasets import Satimage2Dataset\n",
    "from utils.metrics import *\n",
    "from lof import LOF\n",
    "import config"
   ]
  },
  {
   "cell_type": "code",
   "execution_count": null,
   "metadata": {
    "pycharm": {
     "name": "#%%\n"
    }
   },
   "outputs": [
    {
     "name": "stdout",
     "output_type": "stream",
     "text": [
      "Files already downloaded and verified\n",
      "k: 1, calculated AP: 0.10059999999999997\n",
      "k: 2, calculated AP: 0.10059999999999997\n",
      "k: 3, calculated AP: 0.10059999999999997\n",
      "k: 4, calculated AP: 0.10046666666666663\n",
      "k: 5, calculated AP: 0.10046666666666663\n",
      "k: 6, calculated AP: 0.10046666666666663\n",
      "k: 7, calculated AP: 0.10046666666666663\n",
      "k: 8, calculated AP: 0.10046666666666663\n",
      "k: 9, calculated AP: 0.10046666666666663\n",
      "k: 10, calculated AP: 0.10046666666666663\n",
      "k: 11, calculated AP: 0.10046666666666663\n",
      "k: 12, calculated AP: 0.10046666666666663\n",
      "k: 13, calculated AP: 0.10046666666666663\n",
      "k: 14, calculated AP: 0.10046666666666663\n"
     ]
    },
    {
     "name": "stderr",
     "output_type": "stream",
     "text": [
      "c:\\users\\professional\\appdata\\local\\programs\\python\\python39\\scripts\\torch_gpu\\lib\\site-packages\\numpy\\core\\_asarray.py:102: VisibleDeprecationWarning: Creating an ndarray from ragged nested sequences (which is a list-or-tuple of lists-or-tuples-or ndarrays with different lengths or shapes) is deprecated. If you meant to do this, you must specify 'dtype=object' when creating the ndarray.\n",
      "  return array(a, dtype, copy=False, order=order)\n"
     ]
    },
    {
     "name": "stdout",
     "output_type": "stream",
     "text": [
      "k: 15, calculated AP: 0.10046666666666663\n",
      "k: 16, calculated AP: 0.10046666666666663\n",
      "k: 17, calculated AP: 0.10046666666666663\n",
      "k: 18, calculated AP: 0.10046666666666663\n",
      "k: 19, calculated AP: 0.10046666666666663\n",
      "k: 20, calculated AP: 0.10046666666666663\n",
      "k: 21, calculated AP: 0.10046666666666663\n",
      "k: 22, calculated AP: 0.10046666666666663\n",
      "k: 23, calculated AP: 0.10046666666666663\n",
      "k: 24, calculated AP: 0.10041904761904759\n",
      "k: 25, calculated AP: 0.10041904761904759\n",
      "k: 26, calculated AP: 0.10041904761904759\n",
      "k: 27, calculated AP: 0.10041904761904759\n",
      "k: 28, calculated AP: 0.10041904761904759\n",
      "k: 29, calculated AP: 0.10041904761904759\n",
      "k: 30, calculated AP: 0.10041904761904759\n",
      "k: 31, calculated AP: 0.10041904761904759\n",
      "k: 32, calculated AP: 0.10041904761904759\n",
      "k: 33, calculated AP: 0.10041904761904759\n",
      "k: 34, calculated AP: 0.10041904761904759\n",
      "k: 35, calculated AP: 0.10041904761904759\n",
      "k: 36, calculated AP: 0.10041904761904759\n",
      "k: 37, calculated AP: 0.10041904761904759\n",
      "k: 38, calculated AP: 0.10041904761904759\n",
      "k: 39, calculated AP: 0.10041904761904759\n",
      "k: 40, calculated AP: 0.10041904761904759\n",
      "k: 41, calculated AP: 0.10041904761904759\n",
      "k: 42, calculated AP: 0.10041904761904759\n",
      "k: 43, calculated AP: 0.10041904761904759\n",
      "k: 44, calculated AP: 0.10041904761904759\n",
      "k: 45, calculated AP: 0.10041904761904759\n",
      "k: 46, calculated AP: 0.10041904761904759\n",
      "k: 47, calculated AP: 0.10041904761904759\n",
      "k: 48, calculated AP: 0.10041904761904759\n",
      "k: 49, calculated AP: 0.10041904761904759\n",
      "k: 50, calculated AP: 0.10041904761904759\n",
      "k: 51, calculated AP: 0.10041904761904759\n",
      "k: 52, calculated AP: 0.10041904761904759\n",
      "k: 53, calculated AP: 0.10041904761904759\n",
      "k: 54, calculated AP: 0.10041904761904759\n",
      "k: 55, calculated AP: 0.10041904761904759\n",
      "k: 56, calculated AP: 0.10041904761904759\n",
      "k: 57, calculated AP: 0.10041904761904759\n",
      "k: 58, calculated AP: 0.10041904761904759\n",
      "k: 59, calculated AP: 0.10041904761904759\n",
      "k: 60, calculated AP: 0.10041904761904759\n",
      "k: 61, calculated AP: 0.10041904761904759\n",
      "k: 62, calculated AP: 0.10041904761904759\n",
      "k: 63, calculated AP: 0.10041904761904759\n",
      "k: 64, calculated AP: 0.10041904761904759\n",
      "k: 65, calculated AP: 0.10041904761904759\n",
      "k: 66, calculated AP: 0.10041904761904759\n",
      "k: 67, calculated AP: 0.10041904761904759\n",
      "k: 68, calculated AP: 0.10041904761904759\n",
      "k: 69, calculated AP: 0.10041904761904759\n",
      "k: 70, calculated AP: 0.10041904761904759\n",
      "k: 71, calculated AP: 0.10041904761904759\n",
      "k: 72, calculated AP: 0.10041904761904759\n",
      "k: 73, calculated AP: 0.10041904761904759\n",
      "k: 74, calculated AP: 0.10041904761904759\n",
      "k: 75, calculated AP: 0.10041904761904759\n",
      "k: 76, calculated AP: 0.10041904761904759\n",
      "k: 77, calculated AP: 0.10041904761904759\n",
      "k: 78, calculated AP: 0.10038333333333331\n",
      "k: 79, calculated AP: 0.10038333333333331\n",
      "k: 80, calculated AP: 0.10038333333333331\n",
      "k: 81, calculated AP: 0.10038333333333331\n",
      "k: 82, calculated AP: 0.10038333333333331\n",
      "k: 83, calculated AP: 0.10038333333333331\n",
      "k: 84, calculated AP: 0.10038333333333331\n",
      "k: 85, calculated AP: 0.10038333333333331\n",
      "k: 86, calculated AP: 0.10038333333333331\n",
      "k: 87, calculated AP: 0.10038333333333331\n",
      "k: 88, calculated AP: 0.10038333333333331\n",
      "k: 89, calculated AP: 0.10038333333333331\n",
      "k: 90, calculated AP: 0.10038333333333331\n",
      "k: 91, calculated AP: 0.10038333333333331\n",
      "k: 92, calculated AP: 0.10038333333333331\n",
      "k: 93, calculated AP: 0.10038333333333331\n"
     ]
    }
   ],
   "source": [
    "knn = LOF(config)\n",
    "\n",
    "knn.get_data()\n",
    "knn.get_distances()\n",
    "best_k_info = knn.get_best_k_by_AP()\n",
    "print(f'best k: {best_k_info[\"best_k\"]}')\n",
    "l, dk2 = best_k_info['best_k_labels'], best_k_info['best_k_scores']"
   ]
  },
  {
   "cell_type": "code",
   "execution_count": null,
   "metadata": {},
   "outputs": [],
   "source": [
    "p, r, t = precision_recall_curve(l, dk2)\n",
    "ps, rs, ts = sklearn_metrics.precision_recall_curve(l, dk2)"
   ]
  },
  {
   "cell_type": "code",
   "execution_count": null,
   "metadata": {},
   "outputs": [],
   "source": [
    "fig = go.Figure()\n",
    "\n",
    "fig.add_trace(\n",
    "        go.Scatter(\n",
    "            line=dict(color=\"#00CED1\", width=1),\n",
    "            name='Sklearn',\n",
    "            x=rs,\n",
    "            y=ps))\n",
    "\n",
    "fig.add_trace(\n",
    "        go.Scatter(\n",
    "            line=dict(color=\"#900C3F\", width=1),\n",
    "            name='Implemented',\n",
    "            x=r,\n",
    "            y=p))\n",
    "fig.show()"
   ]
  },
  {
   "cell_type": "code",
   "execution_count": null,
   "metadata": {},
   "outputs": [],
   "source": [
    "print(f'Implemented = {average_precision_score(p, r)}')\n",
    "print(f'sklearn = {sklearn_metrics.average_precision_score(l, dk2)}')"
   ]
  },
  {
   "cell_type": "code",
   "execution_count": null,
   "metadata": {},
   "outputs": [],
   "source": [
    "prj_v = TSNE(n_components=2).fit_transform(knn.vectors)"
   ]
  },
  {
   "cell_type": "code",
   "execution_count": null,
   "metadata": {
    "pycharm": {
     "name": "#%%\n"
    }
   },
   "outputs": [],
   "source": [
    "f1_score_ = f1_score(p, r)\n",
    "best_f1_score_idx = np.argmax(f1_score_)\n",
    "best_f1_score = f1_score_[best_f1_score_idx]\n",
    "print(f'best F1-score: {best_f1_score}')\n",
    "\n",
    "best_thr = t[best_f1_score_idx]\n",
    "fin_prediction = np.zeros(knn.dataset_len)\n",
    "fin_prediction[knn.get_anomaly_scores(sorted_dists, k=best_k_info[\"best_k\"]) > best_thr] = 1"
   ]
  },
  {
   "cell_type": "code",
   "execution_count": null,
   "metadata": {},
   "outputs": [],
   "source": [
    "fig = go.Figure()\n",
    "\n",
    "fig.add_trace(\n",
    "        go.Scattergl(\n",
    "            mode='markers',\n",
    "            marker = dict(\n",
    "            line = dict(\n",
    "                width = 1,\n",
    "                color = 'DarkSlateGrey')\n",
    "            ),\n",
    "            name='Normal',\n",
    "            x=prj_v[fin_prediction == 0, 0],\n",
    "            y=prj_v[fin_prediction == 0, 1]))\n",
    "\n",
    "fig.add_trace(\n",
    "        go.Scattergl(\n",
    "            mode='markers',\n",
    "            marker = dict(\n",
    "            line = dict(\n",
    "                width = 1,\n",
    "                color = 'Crimson')\n",
    "            ),\n",
    "            name='Anomaly',\n",
    "            x=prj_v[fin_prediction == 1, 0],\n",
    "            y=prj_v[fin_prediction == 1, 1]))\n",
    "\n",
    "fig.show()"
   ]
  },
  {
   "cell_type": "code",
   "execution_count": null,
   "metadata": {
    "pycharm": {
     "name": "#%%\n"
    }
   },
   "outputs": [],
   "source": [
    "conf_matrix_for_best_thr = confusion_matrix(knn.labels, fin_prediction)"
   ]
  },
  {
   "cell_type": "code",
   "execution_count": null,
   "metadata": {},
   "outputs": [],
   "source": [
    "import plotly.figure_factory as ff\n",
    "\n",
    "z = conf_matrix_for_best_thr\n",
    "z = z[::-1]\n",
    "\n",
    "x = ['Normal', 'Anomaly']\n",
    "y =  x[::-1].copy()\n",
    "\n",
    "z_text = [[str(y) for y in x] for x in z]\n",
    "\n",
    "fig = ff.create_annotated_heatmap(z, x=x, y=y, annotation_text=z_text, colorscale='Viridis')\n",
    "\n",
    "fig.update_layout(title_text='<i><b>Confusion matrix</b></i>',\n",
    "                  xaxis = dict(title='Predicted'),\n",
    "                  yaxis = dict(title='Actual')\n",
    "                 )\n",
    "\n",
    "fig['data'][0]['showscale'] = True\n",
    "fig.show()"
   ]
  },
  {
   "cell_type": "code",
   "execution_count": null,
   "metadata": {},
   "outputs": [],
   "source": []
  }
 ],
 "metadata": {
  "kernelspec": {
   "display_name": "Python 3 (ipykernel)",
   "language": "python",
   "name": "python3"
  },
  "language_info": {
   "codemirror_mode": {
    "name": "ipython",
    "version": 3
   },
   "file_extension": ".py",
   "mimetype": "text/x-python",
   "name": "python",
   "nbconvert_exporter": "python",
   "pygments_lexer": "ipython3",
   "version": "3.9.1"
  }
 },
 "nbformat": 4,
 "nbformat_minor": 4
}